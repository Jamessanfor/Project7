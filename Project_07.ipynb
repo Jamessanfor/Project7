{
 "cells": [
  {
   "cell_type": "code",
   "execution_count": 131,
   "id": "3e516fa6",
   "metadata": {},
   "outputs": [
    {
     "data": {
      "text/html": [
       "<div>\n",
       "<style scoped>\n",
       "    .dataframe tbody tr th:only-of-type {\n",
       "        vertical-align: middle;\n",
       "    }\n",
       "\n",
       "    .dataframe tbody tr th {\n",
       "        vertical-align: top;\n",
       "    }\n",
       "\n",
       "    .dataframe thead th {\n",
       "        text-align: right;\n",
       "    }\n",
       "</style>\n",
       "<table border=\"1\" class=\"dataframe\">\n",
       "  <thead>\n",
       "    <tr style=\"text-align: right;\">\n",
       "      <th></th>\n",
       "      <th>Avg. Area Income</th>\n",
       "      <th>Avg. Area House Age</th>\n",
       "      <th>Avg. Area Number of Rooms</th>\n",
       "      <th>Avg. Area Number of Bedrooms</th>\n",
       "      <th>Area Population</th>\n",
       "      <th>Price</th>\n",
       "      <th>Address</th>\n",
       "    </tr>\n",
       "  </thead>\n",
       "  <tbody>\n",
       "    <tr>\n",
       "      <th>0</th>\n",
       "      <td>79545.458574</td>\n",
       "      <td>5.682861</td>\n",
       "      <td>7.009188</td>\n",
       "      <td>4.09</td>\n",
       "      <td>23086.800503</td>\n",
       "      <td>1.059034e+06</td>\n",
       "      <td>208 Michael Ferry Apt. 674\\nLaurabury, NE 3701...</td>\n",
       "    </tr>\n",
       "    <tr>\n",
       "      <th>1</th>\n",
       "      <td>79248.642455</td>\n",
       "      <td>6.002900</td>\n",
       "      <td>6.730821</td>\n",
       "      <td>3.09</td>\n",
       "      <td>40173.072174</td>\n",
       "      <td>1.505891e+06</td>\n",
       "      <td>188 Johnson Views Suite 079\\nLake Kathleen, CA...</td>\n",
       "    </tr>\n",
       "    <tr>\n",
       "      <th>2</th>\n",
       "      <td>61287.067179</td>\n",
       "      <td>5.865890</td>\n",
       "      <td>8.512727</td>\n",
       "      <td>5.13</td>\n",
       "      <td>36882.159400</td>\n",
       "      <td>1.058988e+06</td>\n",
       "      <td>9127 Elizabeth Stravenue\\nDanieltown, WI 06482...</td>\n",
       "    </tr>\n",
       "    <tr>\n",
       "      <th>3</th>\n",
       "      <td>63345.240046</td>\n",
       "      <td>7.188236</td>\n",
       "      <td>5.586729</td>\n",
       "      <td>3.26</td>\n",
       "      <td>34310.242831</td>\n",
       "      <td>1.260617e+06</td>\n",
       "      <td>USS Barnett\\nFPO AP 44820</td>\n",
       "    </tr>\n",
       "    <tr>\n",
       "      <th>4</th>\n",
       "      <td>59982.197226</td>\n",
       "      <td>5.040555</td>\n",
       "      <td>7.839388</td>\n",
       "      <td>4.23</td>\n",
       "      <td>26354.109472</td>\n",
       "      <td>6.309435e+05</td>\n",
       "      <td>USNS Raymond\\nFPO AE 09386</td>\n",
       "    </tr>\n",
       "  </tbody>\n",
       "</table>\n",
       "</div>"
      ],
      "text/plain": [
       "   Avg. Area Income  Avg. Area House Age  Avg. Area Number of Rooms  \\\n",
       "0      79545.458574             5.682861                   7.009188   \n",
       "1      79248.642455             6.002900                   6.730821   \n",
       "2      61287.067179             5.865890                   8.512727   \n",
       "3      63345.240046             7.188236                   5.586729   \n",
       "4      59982.197226             5.040555                   7.839388   \n",
       "\n",
       "   Avg. Area Number of Bedrooms  Area Population         Price  \\\n",
       "0                          4.09     23086.800503  1.059034e+06   \n",
       "1                          3.09     40173.072174  1.505891e+06   \n",
       "2                          5.13     36882.159400  1.058988e+06   \n",
       "3                          3.26     34310.242831  1.260617e+06   \n",
       "4                          4.23     26354.109472  6.309435e+05   \n",
       "\n",
       "                                             Address  \n",
       "0  208 Michael Ferry Apt. 674\\nLaurabury, NE 3701...  \n",
       "1  188 Johnson Views Suite 079\\nLake Kathleen, CA...  \n",
       "2  9127 Elizabeth Stravenue\\nDanieltown, WI 06482...  \n",
       "3                          USS Barnett\\nFPO AP 44820  \n",
       "4                         USNS Raymond\\nFPO AE 09386  "
      ]
     },
     "execution_count": 131,
     "metadata": {},
     "output_type": "execute_result"
    }
   ],
   "source": [
    "import numpy as np\n",
    "import matplotlib.pyplot as plt\n",
    "import seaborn as sns\n",
    "import pandas as pd\n",
    "\n",
    "from sklearn import linear_model as sklm\n",
    "import statsmodels.formula.api as smf\n",
    "\n",
    "from sklearn.linear_model import LinearRegression\n",
    "import nltk\n",
    "from nltk.corpus import names\n",
    "import random\n",
    "from sklearn.metrics import precision_recall_fscore_support\n",
    "\n",
    "import pandas as pd\n",
    "import matplotlib.pyplot as plt\n",
    "from sklearn.linear_model import LinearRegression\n",
    "import statsmodels.formula.api as smf\n",
    "import numpy as np\n",
    "from sklearn.metrics import precision_recall_fscore_support\n",
    "import random\n",
    "\n",
    "\n",
    "housing_dat = pd.read_csv('USA_Housing.csv')\n",
    "#df = pd.read_csv('mushrooms.csv')\n",
    "\n",
    "\n",
    "housing_dat.head()"
   ]
  },
  {
   "cell_type": "code",
   "execution_count": 132,
   "id": "dbf06663",
   "metadata": {},
   "outputs": [],
   "source": [
    "def state_search(state, address):\n",
    "    \n",
    "    for ele in state:\n",
    "        if ele in address: \n",
    "            return ele\n",
    "    return \"no state\"\n",
    "def index_search(state, address):\n",
    "    \n",
    "    for ele in range(0,len(state)):\n",
    "        if state[ele] in address: \n",
    "            return ele\n",
    "    return 42069\n",
    "\n"
   ]
  },
  {
   "cell_type": "code",
   "execution_count": 133,
   "id": "997866ef",
   "metadata": {},
   "outputs": [
    {
     "data": {
      "text/html": [
       "<div>\n",
       "<style scoped>\n",
       "    .dataframe tbody tr th:only-of-type {\n",
       "        vertical-align: middle;\n",
       "    }\n",
       "\n",
       "    .dataframe tbody tr th {\n",
       "        vertical-align: top;\n",
       "    }\n",
       "\n",
       "    .dataframe thead th {\n",
       "        text-align: right;\n",
       "    }\n",
       "</style>\n",
       "<table border=\"1\" class=\"dataframe\">\n",
       "  <thead>\n",
       "    <tr style=\"text-align: right;\">\n",
       "      <th></th>\n",
       "      <th>Avg. Area Income</th>\n",
       "      <th>Avg. Area House Age</th>\n",
       "      <th>Avg. Area Number of Rooms</th>\n",
       "      <th>Avg. Area Number of Bedrooms</th>\n",
       "      <th>Area Population</th>\n",
       "      <th>Price</th>\n",
       "      <th>Address</th>\n",
       "      <th>state</th>\n",
       "      <th>index_state</th>\n",
       "    </tr>\n",
       "  </thead>\n",
       "  <tbody>\n",
       "    <tr>\n",
       "      <th>1286</th>\n",
       "      <td>80939.634573</td>\n",
       "      <td>6.334546</td>\n",
       "      <td>7.647145</td>\n",
       "      <td>3.31</td>\n",
       "      <td>27771.544505</td>\n",
       "      <td>1.499921e+06</td>\n",
       "      <td>7084 Turner Crossing Suite 917\\nNew Mary, AL 1...</td>\n",
       "      <td>AL</td>\n",
       "      <td>0</td>\n",
       "    </tr>\n",
       "    <tr>\n",
       "      <th>381</th>\n",
       "      <td>62377.064471</td>\n",
       "      <td>6.289993</td>\n",
       "      <td>7.218400</td>\n",
       "      <td>4.46</td>\n",
       "      <td>39075.956378</td>\n",
       "      <td>1.285400e+06</td>\n",
       "      <td>7508 Alyssa Mission\\nMccartytown, AL 15250-4289</td>\n",
       "      <td>AL</td>\n",
       "      <td>0</td>\n",
       "    </tr>\n",
       "    <tr>\n",
       "      <th>1011</th>\n",
       "      <td>73508.359121</td>\n",
       "      <td>6.271705</td>\n",
       "      <td>6.772990</td>\n",
       "      <td>3.49</td>\n",
       "      <td>34894.576334</td>\n",
       "      <td>1.126821e+06</td>\n",
       "      <td>8580 Caleb Rapid Suite 109\\nKarenchester, AL 0...</td>\n",
       "      <td>AL</td>\n",
       "      <td>0</td>\n",
       "    </tr>\n",
       "    <tr>\n",
       "      <th>3572</th>\n",
       "      <td>80694.128150</td>\n",
       "      <td>6.569158</td>\n",
       "      <td>6.455327</td>\n",
       "      <td>2.15</td>\n",
       "      <td>46249.625657</td>\n",
       "      <td>1.770372e+06</td>\n",
       "      <td>24903 Anthony Drives\\nLake Suzanneborough, AL ...</td>\n",
       "      <td>AL</td>\n",
       "      <td>0</td>\n",
       "    </tr>\n",
       "    <tr>\n",
       "      <th>2788</th>\n",
       "      <td>55470.081861</td>\n",
       "      <td>5.694779</td>\n",
       "      <td>6.810466</td>\n",
       "      <td>2.49</td>\n",
       "      <td>36246.412935</td>\n",
       "      <td>9.625317e+05</td>\n",
       "      <td>568 Johnston Mountain\\nNew Janice, AL 53432-9841</td>\n",
       "      <td>AL</td>\n",
       "      <td>0</td>\n",
       "    </tr>\n",
       "  </tbody>\n",
       "</table>\n",
       "</div>"
      ],
      "text/plain": [
       "      Avg. Area Income  Avg. Area House Age  Avg. Area Number of Rooms  \\\n",
       "1286      80939.634573             6.334546                   7.647145   \n",
       "381       62377.064471             6.289993                   7.218400   \n",
       "1011      73508.359121             6.271705                   6.772990   \n",
       "3572      80694.128150             6.569158                   6.455327   \n",
       "2788      55470.081861             5.694779                   6.810466   \n",
       "\n",
       "      Avg. Area Number of Bedrooms  Area Population         Price  \\\n",
       "1286                          3.31     27771.544505  1.499921e+06   \n",
       "381                           4.46     39075.956378  1.285400e+06   \n",
       "1011                          3.49     34894.576334  1.126821e+06   \n",
       "3572                          2.15     46249.625657  1.770372e+06   \n",
       "2788                          2.49     36246.412935  9.625317e+05   \n",
       "\n",
       "                                                Address state  index_state  \n",
       "1286  7084 Turner Crossing Suite 917\\nNew Mary, AL 1...    AL            0  \n",
       "381     7508 Alyssa Mission\\nMccartytown, AL 15250-4289    AL            0  \n",
       "1011  8580 Caleb Rapid Suite 109\\nKarenchester, AL 0...    AL            0  \n",
       "3572  24903 Anthony Drives\\nLake Suzanneborough, AL ...    AL            0  \n",
       "2788   568 Johnston Mountain\\nNew Janice, AL 53432-9841    AL            0  "
      ]
     },
     "execution_count": 133,
     "metadata": {},
     "output_type": "execute_result"
    }
   ],
   "source": [
    "states_and_territory = pd.read_csv('states.csv')\n",
    "states_and_territory.sort_values('abrev')\n",
    "#housing_dat['state'] = housing_dat[state.abrev.isin(housing_dat.Address)]\n",
    "state_abrev= states_and_territory['abrev']\n",
    "state_abrev= state_abrev.to_list()\n",
    "\n",
    "housing_dat['state'] = [state_search(state_abrev,ele) for ele in  housing_dat['Address'] ]\n",
    "housing_dat['index_state'] = [index_search(state_abrev,ele) for ele in  housing_dat['state'] ]\n",
    "\n",
    "bystate= housing_dat.sort_values('index_state')\n",
    "bystate= bystate[bystate.index_state != 42069]\n",
    "#bystate.drop('no state',axis='columns')\n",
    "#print(bystate['state'][0:20])\n",
    "#print(housing_dat[housing_dat['state']=='no state'].shape)\n",
    "\n",
    "#print(bystate['Avg. Area Income'].unique()[44])\n",
    "#\n",
    "bystate.head()"
   ]
  },
  {
   "cell_type": "code",
   "execution_count": 134,
   "id": "30c39137",
   "metadata": {},
   "outputs": [],
   "source": [
    "def affordable_or_not(salary, price):\n",
    "    mx_price= 4*salary\n",
    "    return mx_price>=price"
   ]
  },
  {
   "cell_type": "code",
   "execution_count": 146,
   "id": "ee31279b",
   "metadata": {},
   "outputs": [
    {
     "name": "stdout",
     "output_type": "stream",
     "text": [
      "146\n",
      "(4527, 10)\n"
     ]
    }
   ],
   "source": [
    "afford= (bystate['Avg. Area Income']*10) >= bystate['Price'] \n",
    "\n",
    "afford = afford.astype(int)\n",
    "num=0\n",
    "for ele in afford:\n",
    "    if ele  : num+=1\n",
    "print(num)\n",
    "\n",
    "bystate['afford_or_not']= afford\n",
    "print(bystate.shape)"
   ]
  },
  {
   "cell_type": "code",
   "execution_count": 136,
   "id": "887262c9",
   "metadata": {},
   "outputs": [],
   "source": [
    "#sns.scatterplot(data=bystate,x='Price',y='Area Population')"
   ]
  },
  {
   "cell_type": "code",
   "execution_count": 137,
   "id": "9f347bf0",
   "metadata": {},
   "outputs": [],
   "source": [
    "#sns.scatterplot(data=bystate,x='Price',y='Avg. Area Number of Bedrooms')"
   ]
  },
  {
   "cell_type": "code",
   "execution_count": 138,
   "id": "2d32df13",
   "metadata": {},
   "outputs": [],
   "source": [
    "#sns.scatterplot(data=bystate,x='Price',y='Avg. Area Income')"
   ]
  },
  {
   "cell_type": "code",
   "execution_count": 139,
   "id": "afb1c0f3",
   "metadata": {},
   "outputs": [],
   "source": [
    "#sns.scatterplot(data=bystate,x='Price',y='Avg. Area House Age')"
   ]
  },
  {
   "cell_type": "code",
   "execution_count": 140,
   "id": "d1ad510b",
   "metadata": {},
   "outputs": [],
   "source": [
    "#sns.scatterplot(data=bystate,x='Price',y='Avg. Area Number of Rooms')"
   ]
  },
  {
   "cell_type": "code",
   "execution_count": 141,
   "id": "57750c38",
   "metadata": {},
   "outputs": [],
   "source": [
    "#sns.regplot(data=bystate,x='Price',y='Avg. Area Income')"
   ]
  },
  {
   "cell_type": "code",
   "execution_count": 142,
   "id": "d65f99fb",
   "metadata": {},
   "outputs": [],
   "source": [
    "#bystate['costal_or_not']= ((bystate['state']=='TX')  | (bystate['state']=='FL')  | (bystate['state']=='PN')  | (bystate['state']=='IL') | (bystate['state']=='NY') | (bystate['state']=='CA'))\n",
    "#bystate['costal_or_not']= bystate['costal_or_not'].astype(int)\n"
   ]
  },
  {
   "cell_type": "code",
   "execution_count": 154,
   "id": "7dcd1c46",
   "metadata": {},
   "outputs": [
    {
     "data": {
      "text/plain": [
       "LogisticRegression()"
      ]
     },
     "execution_count": 154,
     "metadata": {},
     "output_type": "execute_result"
    }
   ],
   "source": [
    "from sklearn.linear_model import LogisticRegression\n",
    "\n",
    "\n",
    "X = bystate[[ 'Area Population','Price']]\n",
    "y = bystate.afford_or_not\n",
    "\n",
    "lm = LogisticRegression()\n",
    "lm.fit(X, y)\n",
    "\n",
    "#print(lm.intercept_)\n",
    "#print(lm.coef_)"
   ]
  },
  {
   "cell_type": "code",
   "execution_count": 155,
   "id": "0f2da100",
   "metadata": {},
   "outputs": [
    {
     "name": "stdout",
     "output_type": "stream",
     "text": [
      "[0 0 0 ... 0 0 0]\n"
     ]
    },
    {
     "data": {
      "text/plain": [
       "'predicted range: [0.00,1.00]'"
      ]
     },
     "metadata": {},
     "output_type": "display_data"
    },
    {
     "data": {
      "text/plain": [
       "'precision = [0.97137786 0.85      ]'"
      ]
     },
     "metadata": {},
     "output_type": "display_data"
    },
    {
     "data": {
      "text/plain": [
       "'recall = [0.99931522 0.11643836]'"
      ]
     },
     "metadata": {},
     "output_type": "display_data"
    },
    {
     "data": {
      "text/plain": [
       "'f-score = [0.98514851 0.20481928]'"
      ]
     },
     "metadata": {},
     "output_type": "display_data"
    }
   ],
   "source": [
    "y_pred = lm.predict(X)\n",
    "print(y_pred)\n",
    "# look at what values were predicted\n",
    "\n",
    "\n",
    "display('predicted range: [{0:.2f},{1:.2f}]'.format(min(y_pred), max(y_pred)))\n",
    "\n",
    "p,r,f,s = precision_recall_fscore_support(y, y_pred)\n",
    "display('precision = {}'.format(p))\n",
    "display('recall = {}'.format(r))\n",
    "display('f-score = {}'.format(f))"
   ]
  },
  {
   "cell_type": "code",
   "execution_count": null,
   "id": "f1403da0",
   "metadata": {},
   "outputs": [],
   "source": [
    "\n",
    "\n"
   ]
  },
  {
   "cell_type": "code",
   "execution_count": null,
   "id": "cfa12dec",
   "metadata": {},
   "outputs": [],
   "source": []
  },
  {
   "cell_type": "code",
   "execution_count": null,
   "id": "ed816979",
   "metadata": {},
   "outputs": [],
   "source": []
  },
  {
   "cell_type": "code",
   "execution_count": null,
   "id": "70b5fdaf",
   "metadata": {},
   "outputs": [],
   "source": []
  },
  {
   "cell_type": "code",
   "execution_count": null,
   "id": "c7b1e23e",
   "metadata": {},
   "outputs": [],
   "source": []
  },
  {
   "cell_type": "code",
   "execution_count": null,
   "id": "4b1b860c",
   "metadata": {},
   "outputs": [],
   "source": []
  },
  {
   "cell_type": "code",
   "execution_count": null,
   "id": "47980b47",
   "metadata": {},
   "outputs": [],
   "source": []
  },
  {
   "cell_type": "code",
   "execution_count": null,
   "id": "32796d20",
   "metadata": {},
   "outputs": [],
   "source": []
  },
  {
   "cell_type": "code",
   "execution_count": null,
   "id": "1fabb019",
   "metadata": {},
   "outputs": [],
   "source": []
  },
  {
   "cell_type": "code",
   "execution_count": null,
   "id": "f0aa8cfd",
   "metadata": {},
   "outputs": [],
   "source": []
  }
 ],
 "metadata": {
  "kernelspec": {
   "display_name": "Python 3 (ipykernel)",
   "language": "python",
   "name": "python3"
  },
  "language_info": {
   "codemirror_mode": {
    "name": "ipython",
    "version": 3
   },
   "file_extension": ".py",
   "mimetype": "text/x-python",
   "name": "python",
   "nbconvert_exporter": "python",
   "pygments_lexer": "ipython3",
   "version": "3.9.13"
  }
 },
 "nbformat": 4,
 "nbformat_minor": 5
}
